{
 "cells": [
  {
   "cell_type": "code",
   "execution_count": 1,
   "metadata": {},
   "outputs": [],
   "source": [
    "import pickle\n",
    "import pandas as pd\n",
    "import FuncPuc1 as puc"
   ]
  },
  {
   "cell_type": "code",
   "execution_count": 2,
   "metadata": {},
   "outputs": [
    {
     "name": "stdout",
     "output_type": "stream",
     "text": [
      "pre processamento concluído\n"
     ]
    },
    {
     "name": "stderr",
     "output_type": "stream",
     "text": [
      "C:\\Users\\paulo.abreu\\Downloads\\FuncPuc1.py:44: SettingWithCopyWarning: \n",
      "A value is trying to be set on a copy of a slice from a DataFrame\n",
      "\n",
      "See the caveats in the documentation: https://pandas.pydata.org/pandas-docs/stable/user_guide/indexing.html#returning-a-view-versus-a-copy\n",
      "  df['Dep_t_hour_bin'][i] = b\n",
      "C:\\Users\\paulo.abreu\\Downloads\\FuncPuc1.py:48: SettingWithCopyWarning: \n",
      "A value is trying to be set on a copy of a slice from a DataFrame\n",
      "\n",
      "See the caveats in the documentation: https://pandas.pydata.org/pandas-docs/stable/user_guide/indexing.html#returning-a-view-versus-a-copy\n",
      "  df['Date_of_J_day_bin'][i] = f\n",
      "C:\\Users\\paulo.abreu\\Downloads\\FuncPuc1.py:52: SettingWithCopyWarning: \n",
      "A value is trying to be set on a copy of a slice from a DataFrame\n",
      "\n",
      "See the caveats in the documentation: https://pandas.pydata.org/pandas-docs/stable/user_guide/indexing.html#returning-a-view-versus-a-copy\n",
      "  df['lag_bin'][i] = h\n",
      "C:\\Users\\paulo.abreu\\Documents\\Anaconda3\\lib\\site-packages\\pandas\\core\\indexing.py:670: SettingWithCopyWarning: \n",
      "A value is trying to be set on a copy of a slice from a DataFrame\n",
      "\n",
      "See the caveats in the documentation: https://pandas.pydata.org/pandas-docs/stable/user_guide/indexing.html#returning-a-view-versus-a-copy\n",
      "  iloc._setitem_with_indexer(indexer, value)\n"
     ]
    },
    {
     "name": "stdout",
     "output_type": "stream",
     "text": [
      "Feature engineering concluído com sucesso\n"
     ]
    }
   ],
   "source": [
    "df = pd.read_excel('C:\\\\Users\\\\paulo.abreu\\\\Downloads\\\\archive\\\\Data_Train.xlsx')\n",
    "puc.pre_p(df)\n",
    "puc.feature_bin(df)\n",
    "df1 = df.copy()\n",
    "df1 = df1.dropna()\n",
    "df1 = df1.drop(['Date_of_Journey', 'Dep_Time' , 'Arrival_Time', 'Duration', 'Total_Stops'], axis =1)\n"
   ]
  },
  {
   "cell_type": "code",
   "execution_count": 3,
   "metadata": {},
   "outputs": [],
   "source": [
    "df_test = df1[0 : 5000]\n",
    "df1 = df1[1000:]\n",
    "df_test_y  = df_test['Price']\n",
    "df_test_X = df_test.drop(['Price'], axis=1)"
   ]
  },
  {
   "cell_type": "code",
   "execution_count": 4,
   "metadata": {},
   "outputs": [
    {
     "name": "stdout",
     "output_type": "stream",
     "text": [
      "0.8600812879799042\n"
     ]
    }
   ],
   "source": [
    "filename = 'C:\\\\Users\\\\paulo.abreu\\\\Downloads\\\\finalized_model.sav'\n",
    "#pickle.dump(clf, open(filename, 'wb'))\n",
    "modelo = pickle.load(open(filename, 'rb'))\n",
    "result = modelo.score(df_test_X, df_test_y)\n",
    "print(result)\n"
   ]
  },
  {
   "cell_type": "code",
   "execution_count": 5,
   "metadata": {},
   "outputs": [],
   "source": [
    "previsoes = modelo.predict(df_test_X)"
   ]
  },
  {
   "cell_type": "code",
   "execution_count": 6,
   "metadata": {},
   "outputs": [
    {
     "data": {
      "text/plain": [
       "array([ 6017.32749206,  8897.59008333, 13877.927     , ...,\n",
       "       11087.        ,  4809.805     ,  4526.49047619])"
      ]
     },
     "execution_count": 6,
     "metadata": {},
     "output_type": "execute_result"
    }
   ],
   "source": [
    "previsoes"
   ]
  },
  {
   "cell_type": "code",
   "execution_count": 7,
   "metadata": {},
   "outputs": [
    {
     "data": {
      "text/plain": [
       "5000"
      ]
     },
     "execution_count": 7,
     "metadata": {},
     "output_type": "execute_result"
    }
   ],
   "source": [
    "len(previsoes)"
   ]
  },
  {
   "cell_type": "code",
   "execution_count": 8,
   "metadata": {},
   "outputs": [
    {
     "data": {
      "text/plain": [
       "5000"
      ]
     },
     "execution_count": 8,
     "metadata": {},
     "output_type": "execute_result"
    }
   ],
   "source": [
    "len(df_test_X)"
   ]
  },
  {
   "cell_type": "code",
   "execution_count": 9,
   "metadata": {},
   "outputs": [],
   "source": [
    "df_previ = pd.DataFrame(previsoes)"
   ]
  },
  {
   "cell_type": "code",
   "execution_count": 10,
   "metadata": {
    "scrolled": true
   },
   "outputs": [],
   "source": [
    "df_final = df_test_X.merge(df_previ, left_index=True, right_index=True, how='left')"
   ]
  },
  {
   "cell_type": "code",
   "execution_count": 11,
   "metadata": {},
   "outputs": [
    {
     "data": {
      "text/html": [
       "<div>\n",
       "<style scoped>\n",
       "    .dataframe tbody tr th:only-of-type {\n",
       "        vertical-align: middle;\n",
       "    }\n",
       "\n",
       "    .dataframe tbody tr th {\n",
       "        vertical-align: top;\n",
       "    }\n",
       "\n",
       "    .dataframe thead th {\n",
       "        text-align: right;\n",
       "    }\n",
       "</style>\n",
       "<table border=\"1\" class=\"dataframe\">\n",
       "  <thead>\n",
       "    <tr style=\"text-align: right;\">\n",
       "      <th></th>\n",
       "      <th>Airline</th>\n",
       "      <th>Source</th>\n",
       "      <th>Destination</th>\n",
       "      <th>Route</th>\n",
       "      <th>Additional_Info</th>\n",
       "      <th>Dep_time_hour</th>\n",
       "      <th>Date_of_Journey_day</th>\n",
       "      <th>Date_of_Journey_Month</th>\n",
       "      <th>today</th>\n",
       "      <th>lag</th>\n",
       "      <th>Dep_t_hour_bin</th>\n",
       "      <th>lag_bin</th>\n",
       "      <th>Date_of_J_day_bin</th>\n",
       "      <th>0</th>\n",
       "    </tr>\n",
       "  </thead>\n",
       "  <tbody>\n",
       "    <tr>\n",
       "      <th>0</th>\n",
       "      <td>IndiGo</td>\n",
       "      <td>Banglore</td>\n",
       "      <td>New Delhi</td>\n",
       "      <td>BLR→DEL</td>\n",
       "      <td>No info</td>\n",
       "      <td>22.0</td>\n",
       "      <td>24.0</td>\n",
       "      <td>March</td>\n",
       "      <td>2019-03-01</td>\n",
       "      <td>23</td>\n",
       "      <td>3.0</td>\n",
       "      <td>3.0</td>\n",
       "      <td>3</td>\n",
       "      <td>6017.327492</td>\n",
       "    </tr>\n",
       "    <tr>\n",
       "      <th>1</th>\n",
       "      <td>Air India</td>\n",
       "      <td>Kolkata</td>\n",
       "      <td>Banglore</td>\n",
       "      <td>CCU→IXR→BBI→BLR</td>\n",
       "      <td>No info</td>\n",
       "      <td>5.0</td>\n",
       "      <td>1.0</td>\n",
       "      <td>May</td>\n",
       "      <td>2019-03-01</td>\n",
       "      <td>61</td>\n",
       "      <td>0.0</td>\n",
       "      <td>5.0</td>\n",
       "      <td>0</td>\n",
       "      <td>8897.590083</td>\n",
       "    </tr>\n",
       "    <tr>\n",
       "      <th>2</th>\n",
       "      <td>Jet Airways</td>\n",
       "      <td>Delhi</td>\n",
       "      <td>Cochin</td>\n",
       "      <td>DEL→LKO→BOM→COK</td>\n",
       "      <td>No info</td>\n",
       "      <td>9.0</td>\n",
       "      <td>9.0</td>\n",
       "      <td>June</td>\n",
       "      <td>2019-03-01</td>\n",
       "      <td>1</td>\n",
       "      <td>1.0</td>\n",
       "      <td>0.0</td>\n",
       "      <td>1</td>\n",
       "      <td>13877.927000</td>\n",
       "    </tr>\n",
       "    <tr>\n",
       "      <th>3</th>\n",
       "      <td>IndiGo</td>\n",
       "      <td>Kolkata</td>\n",
       "      <td>Banglore</td>\n",
       "      <td>CCU→NAG→BLR</td>\n",
       "      <td>No info</td>\n",
       "      <td>18.0</td>\n",
       "      <td>12.0</td>\n",
       "      <td>May</td>\n",
       "      <td>2019-03-01</td>\n",
       "      <td>72</td>\n",
       "      <td>2.0</td>\n",
       "      <td>5.0</td>\n",
       "      <td>1</td>\n",
       "      <td>6154.058214</td>\n",
       "    </tr>\n",
       "    <tr>\n",
       "      <th>5</th>\n",
       "      <td>SpiceJet</td>\n",
       "      <td>Kolkata</td>\n",
       "      <td>Banglore</td>\n",
       "      <td>CCU→BLR</td>\n",
       "      <td>No info</td>\n",
       "      <td>9.0</td>\n",
       "      <td>24.0</td>\n",
       "      <td>June</td>\n",
       "      <td>2019-03-01</td>\n",
       "      <td>115</td>\n",
       "      <td>1.0</td>\n",
       "      <td>5.0</td>\n",
       "      <td>3</td>\n",
       "      <td>11087.000000</td>\n",
       "    </tr>\n",
       "    <tr>\n",
       "      <th>...</th>\n",
       "      <td>...</td>\n",
       "      <td>...</td>\n",
       "      <td>...</td>\n",
       "      <td>...</td>\n",
       "      <td>...</td>\n",
       "      <td>...</td>\n",
       "      <td>...</td>\n",
       "      <td>...</td>\n",
       "      <td>...</td>\n",
       "      <td>...</td>\n",
       "      <td>...</td>\n",
       "      <td>...</td>\n",
       "      <td>...</td>\n",
       "      <td>...</td>\n",
       "    </tr>\n",
       "    <tr>\n",
       "      <th>5108</th>\n",
       "      <td>Multiple carriers</td>\n",
       "      <td>Delhi</td>\n",
       "      <td>Cochin</td>\n",
       "      <td>DEL→BOM→COK</td>\n",
       "      <td>No info</td>\n",
       "      <td>17.0</td>\n",
       "      <td>24.0</td>\n",
       "      <td>June</td>\n",
       "      <td>2019-03-01</td>\n",
       "      <td>115</td>\n",
       "      <td>2.0</td>\n",
       "      <td>5.0</td>\n",
       "      <td>3</td>\n",
       "      <td>NaN</td>\n",
       "    </tr>\n",
       "    <tr>\n",
       "      <th>5109</th>\n",
       "      <td>SpiceJet</td>\n",
       "      <td>Banglore</td>\n",
       "      <td>New Delhi</td>\n",
       "      <td>BLR→DEL</td>\n",
       "      <td>No info</td>\n",
       "      <td>5.0</td>\n",
       "      <td>9.0</td>\n",
       "      <td>March</td>\n",
       "      <td>2019-03-01</td>\n",
       "      <td>8</td>\n",
       "      <td>0.0</td>\n",
       "      <td>2.0</td>\n",
       "      <td>1</td>\n",
       "      <td>NaN</td>\n",
       "    </tr>\n",
       "    <tr>\n",
       "      <th>5110</th>\n",
       "      <td>Jet Airways</td>\n",
       "      <td>Banglore</td>\n",
       "      <td>New Delhi</td>\n",
       "      <td>BLR→BOM→DEL</td>\n",
       "      <td>In-flight meal not included</td>\n",
       "      <td>18.0</td>\n",
       "      <td>12.0</td>\n",
       "      <td>March</td>\n",
       "      <td>2019-03-01</td>\n",
       "      <td>11</td>\n",
       "      <td>2.0</td>\n",
       "      <td>2.0</td>\n",
       "      <td>1</td>\n",
       "      <td>NaN</td>\n",
       "    </tr>\n",
       "    <tr>\n",
       "      <th>5111</th>\n",
       "      <td>IndiGo</td>\n",
       "      <td>Kolkata</td>\n",
       "      <td>Banglore</td>\n",
       "      <td>CCU→BLR</td>\n",
       "      <td>No info</td>\n",
       "      <td>20.0</td>\n",
       "      <td>9.0</td>\n",
       "      <td>May</td>\n",
       "      <td>2019-03-01</td>\n",
       "      <td>69</td>\n",
       "      <td>3.0</td>\n",
       "      <td>5.0</td>\n",
       "      <td>1</td>\n",
       "      <td>NaN</td>\n",
       "    </tr>\n",
       "    <tr>\n",
       "      <th>5112</th>\n",
       "      <td>IndiGo</td>\n",
       "      <td>Banglore</td>\n",
       "      <td>Delhi</td>\n",
       "      <td>BLR→DEL</td>\n",
       "      <td>No info</td>\n",
       "      <td>7.0</td>\n",
       "      <td>15.0</td>\n",
       "      <td>June</td>\n",
       "      <td>2019-03-01</td>\n",
       "      <td>106</td>\n",
       "      <td>1.0</td>\n",
       "      <td>5.0</td>\n",
       "      <td>2</td>\n",
       "      <td>NaN</td>\n",
       "    </tr>\n",
       "  </tbody>\n",
       "</table>\n",
       "<p>5000 rows × 14 columns</p>\n",
       "</div>"
      ],
      "text/plain": [
       "                Airline    Source Destination            Route  \\\n",
       "0                IndiGo  Banglore   New Delhi          BLR→DEL   \n",
       "1             Air India   Kolkata    Banglore  CCU→IXR→BBI→BLR   \n",
       "2           Jet Airways     Delhi      Cochin  DEL→LKO→BOM→COK   \n",
       "3                IndiGo   Kolkata    Banglore      CCU→NAG→BLR   \n",
       "5              SpiceJet   Kolkata    Banglore          CCU→BLR   \n",
       "...                 ...       ...         ...              ...   \n",
       "5108  Multiple carriers     Delhi      Cochin      DEL→BOM→COK   \n",
       "5109           SpiceJet  Banglore   New Delhi          BLR→DEL   \n",
       "5110        Jet Airways  Banglore   New Delhi      BLR→BOM→DEL   \n",
       "5111             IndiGo   Kolkata    Banglore          CCU→BLR   \n",
       "5112             IndiGo  Banglore       Delhi          BLR→DEL   \n",
       "\n",
       "                  Additional_Info  Dep_time_hour  Date_of_Journey_day  \\\n",
       "0                         No info           22.0                 24.0   \n",
       "1                         No info            5.0                  1.0   \n",
       "2                         No info            9.0                  9.0   \n",
       "3                         No info           18.0                 12.0   \n",
       "5                         No info            9.0                 24.0   \n",
       "...                           ...            ...                  ...   \n",
       "5108                      No info           17.0                 24.0   \n",
       "5109                      No info            5.0                  9.0   \n",
       "5110  In-flight meal not included           18.0                 12.0   \n",
       "5111                      No info           20.0                  9.0   \n",
       "5112                      No info            7.0                 15.0   \n",
       "\n",
       "     Date_of_Journey_Month      today  lag  Dep_t_hour_bin  lag_bin  \\\n",
       "0                    March 2019-03-01   23             3.0      3.0   \n",
       "1                      May 2019-03-01   61             0.0      5.0   \n",
       "2                     June 2019-03-01    1             1.0      0.0   \n",
       "3                      May 2019-03-01   72             2.0      5.0   \n",
       "5                     June 2019-03-01  115             1.0      5.0   \n",
       "...                    ...        ...  ...             ...      ...   \n",
       "5108                  June 2019-03-01  115             2.0      5.0   \n",
       "5109                 March 2019-03-01    8             0.0      2.0   \n",
       "5110                 March 2019-03-01   11             2.0      2.0   \n",
       "5111                   May 2019-03-01   69             3.0      5.0   \n",
       "5112                  June 2019-03-01  106             1.0      5.0   \n",
       "\n",
       "      Date_of_J_day_bin             0  \n",
       "0                     3   6017.327492  \n",
       "1                     0   8897.590083  \n",
       "2                     1  13877.927000  \n",
       "3                     1   6154.058214  \n",
       "5                     3  11087.000000  \n",
       "...                 ...           ...  \n",
       "5108                  3           NaN  \n",
       "5109                  1           NaN  \n",
       "5110                  1           NaN  \n",
       "5111                  1           NaN  \n",
       "5112                  2           NaN  \n",
       "\n",
       "[5000 rows x 14 columns]"
      ]
     },
     "execution_count": 11,
     "metadata": {},
     "output_type": "execute_result"
    }
   ],
   "source": [
    "df_final"
   ]
  },
  {
   "cell_type": "code",
   "execution_count": 13,
   "metadata": {},
   "outputs": [],
   "source": [
    "df_final.to_csv('C:\\\\Users\\\\paulo.abreu\\\\Downloads\\\\archive\\\\df_final.csv',\n",
    "          sep = ';', \n",
    "          decimal = ',', \n",
    "          encoding = 'UTF-8',\n",
    "          mode = 'w',\n",
    "          line_terminator = '\\r'\n",
    "         )"
   ]
  },
  {
   "cell_type": "code",
   "execution_count": null,
   "metadata": {},
   "outputs": [],
   "source": []
  }
 ],
 "metadata": {
  "kernelspec": {
   "display_name": "Python 3",
   "language": "python",
   "name": "python3"
  },
  "language_info": {
   "codemirror_mode": {
    "name": "ipython",
    "version": 3
   },
   "file_extension": ".py",
   "mimetype": "text/x-python",
   "name": "python",
   "nbconvert_exporter": "python",
   "pygments_lexer": "ipython3",
   "version": "3.8.5"
  }
 },
 "nbformat": 4,
 "nbformat_minor": 4
}
